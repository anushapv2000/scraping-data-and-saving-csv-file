{
 "cells": [
  {
   "cell_type": "code",
   "execution_count": 1,
   "id": "brazilian-purple",
   "metadata": {},
   "outputs": [
    {
     "name": "stdout",
     "output_type": "stream",
     "text": [
      "Collecting selenium\n",
      "  Downloading selenium-3.141.0-py2.py3-none-any.whl (904 kB)\n",
      "Requirement already satisfied: urllib3 in c:\\users\\anush\\anaconda3\\lib\\site-packages (from selenium) (1.26.2)\n",
      "Installing collected packages: selenium\n",
      "Successfully installed selenium-3.141.0\n",
      "Note: you may need to restart the kernel to use updated packages.\n"
     ]
    }
   ],
   "source": [
    "pip install selenium"
   ]
  },
  {
   "cell_type": "code",
   "execution_count": 72,
   "id": "female-westminster",
   "metadata": {},
   "outputs": [],
   "source": [
    "from selenium import webdriver\n",
    "from selenium.webdriver.common.keys import Keys\n",
    "from selenium.webdriver.common.by import By\n",
    "from selenium.webdriver.support.ui import WebDriverWait\n",
    "from selenium.webdriver.common.action_chains import ActionChains\n",
    "from selenium.webdriver.support import expected_conditions as EC\n",
    "import time\n"
   ]
  },
  {
   "cell_type": "code",
   "execution_count": 73,
   "id": "moral-public",
   "metadata": {},
   "outputs": [],
   "source": [
    "path=\"C:\\Program Files (x86)\\chromedriver.exe\""
   ]
  },
  {
   "cell_type": "code",
   "execution_count": 74,
   "id": "interracial-documentary",
   "metadata": {},
   "outputs": [],
   "source": [
    "driver=webdriver.Chrome(path)"
   ]
  },
  {
   "cell_type": "code",
   "execution_count": 75,
   "id": "killing-transaction",
   "metadata": {},
   "outputs": [],
   "source": [
    "driver.get(\"https://www.instagram.com/\")"
   ]
  },
  {
   "cell_type": "code",
   "execution_count": 76,
   "id": "chronic-softball",
   "metadata": {},
   "outputs": [],
   "source": [
    "driver.find_element_by_name(\"username\").send_keys(\"anushamubeen09@gmail.com\")"
   ]
  },
  {
   "cell_type": "code",
   "execution_count": 77,
   "id": "better-blocking",
   "metadata": {},
   "outputs": [],
   "source": [
    "driver.find_element_by_name(\"password\").send_keys(\"Hailstone1234\")"
   ]
  },
  {
   "cell_type": "code",
   "execution_count": 78,
   "id": "young-context",
   "metadata": {},
   "outputs": [],
   "source": [
    "driver.find_element_by_xpath('//button[normalize-space()=\"Log In\"]').click()"
   ]
  },
  {
   "cell_type": "code",
   "execution_count": 9,
   "id": "accomplished-notification",
   "metadata": {},
   "outputs": [],
   "source": [
    "driver.find_element_by_xpath('//button[normalize-space()=\"Not Now\"]').click()"
   ]
  },
  {
   "cell_type": "code",
   "execution_count": 123,
   "id": "orange-cheat",
   "metadata": {},
   "outputs": [],
   "source": [
    "driver.find_element_by_xpath('//button[normalize-space()=\"Turn On\"]').click()"
   ]
  },
  {
   "cell_type": "code",
   "execution_count": 125,
   "id": "swedish-print",
   "metadata": {},
   "outputs": [],
   "source": [
    "driver.find_element_by_xpath('//a[normalize-space()=\"anusha_pv_\"]').click()"
   ]
  },
  {
   "cell_type": "code",
   "execution_count": 126,
   "id": "stunning-geology",
   "metadata": {},
   "outputs": [],
   "source": [
    "driver.find_element_by_partial_link_text(\"followers\").click()"
   ]
  },
  {
   "cell_type": "code",
   "execution_count": 112,
   "id": "increasing-piano",
   "metadata": {},
   "outputs": [],
   "source": [
    "driver.find_element_by_xpath('/html/body/div[5]/div/div/div[1]/div/div[2]/button').click()"
   ]
  },
  {
   "cell_type": "code",
   "execution_count": 113,
   "id": "fourth-denver",
   "metadata": {},
   "outputs": [],
   "source": [
    "driver.find_element_by_partial_link_text(\"following\").click()"
   ]
  },
  {
   "cell_type": "code",
   "execution_count": 114,
   "id": "competent-brooklyn",
   "metadata": {},
   "outputs": [],
   "source": [
    "driver.find_element_by_xpath('/html/body/div[5]/div/div/div[1]/div/div[2]/button').click()"
   ]
  },
  {
   "cell_type": "code",
   "execution_count": 18,
   "id": "arctic-review",
   "metadata": {},
   "outputs": [],
   "source": [
    "f=driver.find_element_by_partial_link_text(\"followers\")\n"
   ]
  },
  {
   "cell_type": "code",
   "execution_count": 57,
   "id": "educated-classroom",
   "metadata": {},
   "outputs": [],
   "source": [
    "import random\n",
    "import numpy"
   ]
  },
  {
   "cell_type": "code",
   "execution_count": 79,
   "id": "technological-worse",
   "metadata": {},
   "outputs": [],
   "source": [
    "i=1\n",
    "l=[]\n",
    "while(i<698):\n",
    "    time.sleep(random.choice(numpy.arange(1,1.5,0.1)))\n",
    "    c=driver.find_element_by_xpath('/html/body/div[5]/div/div/div[2]/ul/div/li[{}]'.format(i))\n",
    "    name=c.find_element_by_css_selector(\".notranslate\").text\n",
    "    l.append(name)\n",
    "    driver.implicitly_wait(10)\n",
    "    driver.execute_script(\"arguments[0].scrollIntoView();\",c)\n",
    "    i += 1\n",
    "    "
   ]
  },
  {
   "cell_type": "code",
   "execution_count": 82,
   "id": "flush-doubt",
   "metadata": {},
   "outputs": [
    {
     "data": {
      "text/plain": [
       "730"
      ]
     },
     "execution_count": 82,
     "metadata": {},
     "output_type": "execute_result"
    }
   ],
   "source": [
    "len(f)"
   ]
  },
  {
   "cell_type": "code",
   "execution_count": 81,
   "id": "recorded-disorder",
   "metadata": {},
   "outputs": [],
   "source": [
    "i=1\n",
    "f=[]\n",
    "while(i<731):\n",
    "    time.sleep(random.choice(numpy.arange(1,1.5,0.1)))\n",
    "    o=driver.find_element_by_xpath('/html/body/div[5]/div/div/div[2]/ul/div/li[{}]'.format(i))\n",
    "    name=o.find_element_by_css_selector(\".notranslate\").text\n",
    "    f.append(name)\n",
    "    driver.implicitly_wait(10)\n",
    "    driver.execute_script(\"arguments[0].scrollIntoView();\",o)\n",
    "    i += 1"
   ]
  },
  {
   "cell_type": "code",
   "execution_count": 91,
   "id": "olive-atlas",
   "metadata": {},
   "outputs": [],
   "source": [
    "def difference(l=l,f=f):\n",
    "    x=[i for i in f if i not in l ]\n",
    "    return x"
   ]
  },
  {
   "cell_type": "code",
   "execution_count": 92,
   "id": "forced-midwest",
   "metadata": {},
   "outputs": [],
   "source": [
    "k=difference()"
   ]
  },
  {
   "cell_type": "code",
   "execution_count": 93,
   "id": "transsexual-quality",
   "metadata": {},
   "outputs": [
    {
     "data": {
      "text/plain": [
       "53"
      ]
     },
     "execution_count": 93,
     "metadata": {},
     "output_type": "execute_result"
    }
   ],
   "source": [
    "len(k)"
   ]
  },
  {
   "cell_type": "code",
   "execution_count": 94,
   "id": "irish-terrorism",
   "metadata": {},
   "outputs": [
    {
     "data": {
      "text/plain": [
       "['shahzaadee_.yas',\n",
       " 'department_of_ece',\n",
       " '_.artish',\n",
       " 'cufeconfession',\n",
       " '__aizels_world__',\n",
       " 'inkwithsara',\n",
       " 'abarrrna',\n",
       " 'ecsta_ticquotes',\n",
       " 'basheerpallivalapil',\n",
       " 'crafiteee_',\n",
       " 'fikaaaaaaaaah',\n",
       " '_anujnema',\n",
       " 'mehak8fayaz',\n",
       " 'hennaglad',\n",
       " 'v.for.valor',\n",
       " 'ai_sh_ua_149',\n",
       " 'l_o_r_d_s.___',\n",
       " 'ashwin_46_',\n",
       " 'kimoon5901',\n",
       " '_shira.__',\n",
       " 'cupo.ftales',\n",
       " 'rakul_.av',\n",
       " 'imperfect_brushes',\n",
       " '_mohd.sinan_',\n",
       " '_.jeswaan',\n",
       " 'cash.keng',\n",
       " 'sufailapv123',\n",
       " 'she_and_her_ink',\n",
       " 'nawinn_reddy',\n",
       " 'theanto_jr',\n",
       " 'kartik_nd',\n",
       " 'remshid_maliyekkal',\n",
       " '___.ankiii',\n",
       " 'food.with.bella',\n",
       " 'shirins_mania',\n",
       " 'magnovite.v10',\n",
       " 'adarsh.benny',\n",
       " 'swo_kengeri',\n",
       " 'joelaugustinealex',\n",
       " 'a_nj_na_anil',\n",
       " '_anu.pama_',\n",
       " 'knu_international',\n",
       " 'christbglr',\n",
       " 'fathima_noor__',\n",
       " '_aurora_in',\n",
       " 'kinsleyscookiecart',\n",
       " 'jerryjhlee',\n",
       " 'malala',\n",
       " 'scienceoftheuniverse',\n",
       " 'nasa',\n",
       " 'yueying_1112',\n",
       " 'vineethtkurup',\n",
       " 'makeupbyupasna']"
      ]
     },
     "execution_count": 94,
     "metadata": {},
     "output_type": "execute_result"
    }
   ],
   "source": [
    "k"
   ]
  },
  {
   "cell_type": "code",
   "execution_count": null,
   "id": "proud-reynolds",
   "metadata": {},
   "outputs": [],
   "source": []
  },
  {
   "cell_type": "code",
   "execution_count": 198,
   "id": "authentic-acoustic",
   "metadata": {},
   "outputs": [
    {
     "data": {
      "text/plain": [
       "''"
      ]
     },
     "execution_count": 198,
     "metadata": {},
     "output_type": "execute_result"
    }
   ],
   "source": []
  },
  {
   "cell_type": "code",
   "execution_count": null,
   "id": "foster-authority",
   "metadata": {},
   "outputs": [],
   "source": [
    " "
   ]
  }
 ],
 "metadata": {
  "kernelspec": {
   "display_name": "Python 3",
   "language": "python",
   "name": "python3"
  },
  "language_info": {
   "codemirror_mode": {
    "name": "ipython",
    "version": 3
   },
   "file_extension": ".py",
   "mimetype": "text/x-python",
   "name": "python",
   "nbconvert_exporter": "python",
   "pygments_lexer": "ipython3",
   "version": "3.8.5"
  }
 },
 "nbformat": 4,
 "nbformat_minor": 5
}
