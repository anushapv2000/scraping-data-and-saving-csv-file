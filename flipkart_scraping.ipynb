{
  "nbformat": 4,
  "nbformat_minor": 0,
  "metadata": {
    "colab": {
      "name": "flipkart_scraping.ipynb",
      "provenance": []
    },
    "kernelspec": {
      "name": "python3",
      "display_name": "Python 3"
    },
    "language_info": {
      "name": "python"
    }
  },
  "cells": [
    {
      "cell_type": "code",
      "metadata": {
        "id": "GzEiBduX51uN"
      },
      "source": [
        "from bs4 import BeautifulSoup "
      ],
      "execution_count": 22,
      "outputs": []
    },
    {
      "cell_type": "code",
      "metadata": {
        "id": "EkccBlFyQ0v-"
      },
      "source": [
        "from urllib.request import urlopen as uReq"
      ],
      "execution_count": 2,
      "outputs": []
    },
    {
      "cell_type": "code",
      "metadata": {
        "id": "WLJ1yFiOQ52g"
      },
      "source": [
        "url='https://www.flipkart.com/search?q=samsung+mobiles&amp;sid=tyy%2C4io&amp;as=on&amp;as-show=on&amp;otracker=AS_QueryStore_HistoryAutoSuggest_0_2&amp;otracker1=AS_QueryStore_HistoryAutoSuggest_0_2&amp;as-pos=0&amp;as-type=HISTORY&amp;as-searchtext=sa'\n",
        "uclnt=uReq(url)\n",
        "page=uclnt.read()\n",
        "uclnt.close()\n",
        "pages= BeautifulSoup(page,\"html.parser\")"
      ],
      "execution_count": 82,
      "outputs": []
    },
    {
      "cell_type": "code",
      "metadata": {
        "id": "KrIEeyimRt-w"
      },
      "source": [
        "print(pages.prettify())"
      ],
      "execution_count": null,
      "outputs": []
    },
    {
      "cell_type": "code",
      "metadata": {
        "id": "_KCRA2W2Sc5c"
      },
      "source": [
        "n=pages.find_all('div',{'class':'_2kHMtA'})"
      ],
      "execution_count": 138,
      "outputs": []
    },
    {
      "cell_type": "code",
      "metadata": {
        "colab": {
          "base_uri": "https://localhost:8080/"
        },
        "id": "IyDrfo-eSjFJ",
        "outputId": "17c3e382-cb06-4176-8543-14f6d2b0959a"
      },
      "source": [
        "print(len(n))"
      ],
      "execution_count": 172,
      "outputs": [
        {
          "output_type": "stream",
          "text": [
            "24\n"
          ],
          "name": "stdout"
        }
      ]
    },
    {
      "cell_type": "code",
      "metadata": {
        "id": "TG8d2FCrSl6j"
      },
      "source": [
        "print(BeautifulSoup.prettify(n[0]))"
      ],
      "execution_count": null,
      "outputs": []
    },
    {
      "cell_type": "code",
      "metadata": {
        "colab": {
          "base_uri": "https://localhost:8080/",
          "height": 35
        },
        "id": "f-ymWHd5StXW",
        "outputId": "42bab271-75db-4c3c-b3ec-fe335da62671"
      },
      "source": [
        "pages.find_all('div',{'class':'_2LR_KO'})[0].get_text()"
      ],
      "execution_count": 144,
      "outputs": [
        {
          "output_type": "execute_result",
          "data": {
            "application/vnd.google.colaboratory.intrinsic+json": {
              "type": "string"
            },
            "text/plain": [
              "'Galaxy F22 from ₹11,999*'"
            ]
          },
          "metadata": {
            "tags": []
          },
          "execution_count": 144
        }
      ]
    },
    {
      "cell_type": "code",
      "metadata": {
        "id": "fJkwxLEMICzV"
      },
      "source": [
        ""
      ],
      "execution_count": 175,
      "outputs": []
    },
    {
      "cell_type": "code",
      "metadata": {
        "id": "Lu2tARZ7XZy1"
      },
      "source": [
        ""
      ],
      "execution_count": 175,
      "outputs": []
    },
    {
      "cell_type": "code",
      "metadata": {
        "colab": {
          "base_uri": "https://localhost:8080/",
          "height": 35
        },
        "id": "QzxhQtXvYidM",
        "outputId": "71c2b95f-2424-4de8-a9f5-70eef471c167"
      },
      "source": [
        "n[1].img['alt']"
      ],
      "execution_count": 146,
      "outputs": [
        {
          "output_type": "execute_result",
          "data": {
            "application/vnd.google.colaboratory.intrinsic+json": {
              "type": "string"
            },
            "text/plain": [
              "'SAMSUNG Guru 1200'"
            ]
          },
          "metadata": {
            "tags": []
          },
          "execution_count": 146
        }
      ]
    },
    {
      "cell_type": "code",
      "metadata": {
        "id": "bj2BgpNKYtrT"
      },
      "source": [
        "prices=pages.find_all('div',{'class':'col col-5-12 nlI3QM'})"
      ],
      "execution_count": 90,
      "outputs": []
    },
    {
      "cell_type": "code",
      "metadata": {
        "colab": {
          "base_uri": "https://localhost:8080/",
          "height": 35
        },
        "id": "5aSvBI9EY6aM",
        "outputId": "24033e7c-bbe5-4743-828d-1099ff3c0691"
      },
      "source": [
        "prices[0].find_all('div',{'class':'_30jeq3 _1_WHN1'})[0].get_text()"
      ],
      "execution_count": 149,
      "outputs": [
        {
          "output_type": "execute_result",
          "data": {
            "application/vnd.google.colaboratory.intrinsic+json": {
              "type": "string"
            },
            "text/plain": [
              "'₹14,499'"
            ]
          },
          "metadata": {
            "tags": []
          },
          "execution_count": 149
        }
      ]
    },
    {
      "cell_type": "code",
      "metadata": {
        "id": "Gl-MvCxTcS2y"
      },
      "source": [
        "\n",
        "print(prices[5].prettify())"
      ],
      "execution_count": null,
      "outputs": []
    },
    {
      "cell_type": "code",
      "metadata": {
        "id": "1emJTUDPrM8G"
      },
      "source": [
        "ratings=pages.find_all('div',{'class':'gUuXy-'})"
      ],
      "execution_count": 98,
      "outputs": []
    },
    {
      "cell_type": "code",
      "metadata": {
        "id": "t_VIilo6rg8V"
      },
      "source": [
        "print(ratings[0].prettify())"
      ],
      "execution_count": null,
      "outputs": []
    },
    {
      "cell_type": "code",
      "metadata": {
        "colab": {
          "base_uri": "https://localhost:8080/"
        },
        "id": "sY1etx_Jrvp0",
        "outputId": "27ebefe4-8d1a-4f54-f34d-e7c1c2d7fbb6"
      },
      "source": [
        "print((ratings[0].find('span',{'class':'_2_R_DZ'}).get_text()))"
      ],
      "execution_count": 111,
      "outputs": [
        {
          "output_type": "stream",
          "text": [
            "3,34,388 Ratings & 36,930 Reviews\n"
          ],
          "name": "stdout"
        }
      ]
    },
    {
      "cell_type": "code",
      "metadata": {
        "colab": {
          "base_uri": "https://localhost:8080/"
        },
        "id": "rG0jSyYruYnz",
        "outputId": "64c303af-da03-4dfc-b0da-bc9efdbcf7a4"
      },
      "source": [
        "filename='products.csv'\n",
        "f=open(filename,'w')\n",
        "headers='product_name,pricing,ratings\\n'\n",
        "f.write(headers)"
      ],
      "execution_count": 112,
      "outputs": [
        {
          "output_type": "execute_result",
          "data": {
            "text/plain": [
              "29"
            ]
          },
          "metadata": {
            "tags": []
          },
          "execution_count": 112
        }
      ]
    },
    {
      "cell_type": "code",
      "metadata": {
        "colab": {
          "base_uri": "https://localhost:8080/"
        },
        "id": "4CFmzk-evE_w",
        "outputId": "1248fcdb-fe3c-4a67-e0e7-97a05d174433"
      },
      "source": [
        "f"
      ],
      "execution_count": 198,
      "outputs": [
        {
          "output_type": "execute_result",
          "data": {
            "text/plain": [
              "<_io.TextIOWrapper name='products.csv' mode='w' encoding='UTF-8'>"
            ]
          },
          "metadata": {
            "tags": []
          },
          "execution_count": 198
        }
      ]
    },
    {
      "cell_type": "code",
      "metadata": {
        "id": "av0nE9iLG0uh"
      },
      "source": [
        "import pandas as pd"
      ],
      "execution_count": 200,
      "outputs": []
    },
    {
      "cell_type": "code",
      "metadata": {
        "id": "5AlTeTRcv5gc"
      },
      "source": [
        "l_l=[]\n",
        "for i in range(0,len(n)):\n",
        "    l_p=[]\n",
        "    p_name=n[i].img['alt']\n",
        "    p_price=n[i].find_all('div',{'class':'col col-5-12 nlI3QM'})\n",
        "    p=p_price[0].find_all('div',{'class':'_30jeq3 _1_WHN1'})[0].get_text()\n",
        "    rate=n[i].find_all('div',{'class':'gUuXy-'})\n",
        "    r=rate[0].find('span',{'class':'_2_R_DZ'}).get_text()\n",
        "    l_p.append(p_name)\n",
        "    l_p.append(p)\n",
        "    l_p.append(r)\n",
        "    l_l.append(l_p)\n",
        "df=pd.DataFrame(l_l,columns=['prod_name','price','ratings&reviews'])"
      ],
      "execution_count": 205,
      "outputs": []
    },
    {
      "cell_type": "code",
      "metadata": {
        "colab": {
          "base_uri": "https://localhost:8080/",
          "height": 204
        },
        "id": "-A5KU-ti13Cx",
        "outputId": "b093405e-bf8d-4e0a-a7c8-884ecd4ee099"
      },
      "source": [
        "df.head()"
      ],
      "execution_count": 206,
      "outputs": [
        {
          "output_type": "execute_result",
          "data": {
            "text/html": [
              "<div>\n",
              "<style scoped>\n",
              "    .dataframe tbody tr th:only-of-type {\n",
              "        vertical-align: middle;\n",
              "    }\n",
              "\n",
              "    .dataframe tbody tr th {\n",
              "        vertical-align: top;\n",
              "    }\n",
              "\n",
              "    .dataframe thead th {\n",
              "        text-align: right;\n",
              "    }\n",
              "</style>\n",
              "<table border=\"1\" class=\"dataframe\">\n",
              "  <thead>\n",
              "    <tr style=\"text-align: right;\">\n",
              "      <th></th>\n",
              "      <th>prod_name</th>\n",
              "      <th>price</th>\n",
              "      <th>ratings&amp;reviews</th>\n",
              "    </tr>\n",
              "  </thead>\n",
              "  <tbody>\n",
              "    <tr>\n",
              "      <th>0</th>\n",
              "      <td>SAMSUNG Galaxy F41 (Fusion Blue, 128 GB)</td>\n",
              "      <td>₹14,499</td>\n",
              "      <td>3,34,388 Ratings &amp; 36,930 Reviews</td>\n",
              "    </tr>\n",
              "    <tr>\n",
              "      <th>1</th>\n",
              "      <td>SAMSUNG Guru 1200</td>\n",
              "      <td>₹1,100</td>\n",
              "      <td>1,65,711 Ratings &amp; 14,560 Reviews</td>\n",
              "    </tr>\n",
              "    <tr>\n",
              "      <th>2</th>\n",
              "      <td>SAMSUNG Galaxy F12 (Sea Green, 64 GB)</td>\n",
              "      <td>₹10,999</td>\n",
              "      <td>74,860 Ratings &amp; 6,088 Reviews</td>\n",
              "    </tr>\n",
              "    <tr>\n",
              "      <th>3</th>\n",
              "      <td>SAMSUNG Galaxy F41 (Fusion Green, 128 GB)</td>\n",
              "      <td>₹14,499</td>\n",
              "      <td>3,34,388 Ratings &amp; 36,930 Reviews</td>\n",
              "    </tr>\n",
              "    <tr>\n",
              "      <th>4</th>\n",
              "      <td>SAMSUNG Galaxy F41 (Fusion Black, 128 GB)</td>\n",
              "      <td>₹14,499</td>\n",
              "      <td>3,34,388 Ratings &amp; 36,930 Reviews</td>\n",
              "    </tr>\n",
              "  </tbody>\n",
              "</table>\n",
              "</div>"
            ],
            "text/plain": [
              "                                   prod_name  ...                    ratings&reviews\n",
              "0   SAMSUNG Galaxy F41 (Fusion Blue, 128 GB)  ...  3,34,388 Ratings & 36,930 Reviews\n",
              "1                          SAMSUNG Guru 1200  ...  1,65,711 Ratings & 14,560 Reviews\n",
              "2      SAMSUNG Galaxy F12 (Sea Green, 64 GB)  ...     74,860 Ratings & 6,088 Reviews\n",
              "3  SAMSUNG Galaxy F41 (Fusion Green, 128 GB)  ...  3,34,388 Ratings & 36,930 Reviews\n",
              "4  SAMSUNG Galaxy F41 (Fusion Black, 128 GB)  ...  3,34,388 Ratings & 36,930 Reviews\n",
              "\n",
              "[5 rows x 3 columns]"
            ]
          },
          "metadata": {
            "tags": []
          },
          "execution_count": 206
        }
      ]
    },
    {
      "cell_type": "code",
      "metadata": {
        "id": "0lT5s1h4rcce"
      },
      "source": [
        ""
      ],
      "execution_count": null,
      "outputs": []
    }
  ]
}